{
 "cells": [
  {
   "cell_type": "code",
   "execution_count": 43,
   "metadata": {},
   "outputs": [],
   "source": [
    "# first neural network with keras tutorial\n",
    "from numpy import loadtxt\n",
    "from keras.models import Sequential\n",
    "from keras.layers import Dense"
   ]
  },
  {
   "cell_type": "code",
   "execution_count": 44,
   "metadata": {},
   "outputs": [],
   "source": [
    "# load the dataset\n",
    "\n",
    "with open('test1.csv') as f:\n",
    "    lines = (line for line in f if not line.startswith('#'))\n",
    "    dataset = loadtxt(lines, delimiter=',', skiprows=1)\n",
    "    X = dataset[:35,0:6]\n",
    "    y = dataset[:35,6]\n",
    "    \n",
    "    X_test = dataset[35:,0:6]\n",
    "    y_test = dataset[35:,6]\n",
    "    #print(X)\n",
    "    #print(y)\n",
    "    #print(X_test)\n",
    "    #print(y_test)"
   ]
  },
  {
   "cell_type": "code",
   "execution_count": 45,
   "metadata": {},
   "outputs": [],
   "source": [
    "# define the keras model\n",
    "model = Sequential()\n",
    "model.add(Dense(12, input_dim=6, activation='relu'))\n",
    "model.add(Dense(8, activation='relu'))\n",
    "model.add(Dense(1, activation='sigmoid'))"
   ]
  },
  {
   "cell_type": "code",
   "execution_count": 46,
   "metadata": {},
   "outputs": [],
   "source": [
    "model.compile(loss='binary_crossentropy', optimizer='adam', metrics=['accuracy'])"
   ]
  },
  {
   "cell_type": "code",
   "execution_count": 47,
   "metadata": {},
   "outputs": [
    {
     "name": "stdout",
     "output_type": "stream",
     "text": [
      "Epoch 1/80\n",
      "4/4 [==============================] - 0s 57ms/step - loss: 0.6222 - accuracy: 0.6286 - val_loss: 0.5965 - val_accuracy: 0.6000\n",
      "Epoch 2/80\n",
      "4/4 [==============================] - 0s 12ms/step - loss: 0.6079 - accuracy: 0.6286 - val_loss: 0.5892 - val_accuracy: 0.6000\n",
      "Epoch 3/80\n",
      "4/4 [==============================] - 0s 11ms/step - loss: 0.5944 - accuracy: 0.6286 - val_loss: 0.5827 - val_accuracy: 0.6000\n",
      "Epoch 4/80\n",
      "4/4 [==============================] - 0s 10ms/step - loss: 0.5814 - accuracy: 0.6286 - val_loss: 0.5770 - val_accuracy: 0.6000\n",
      "Epoch 5/80\n",
      "4/4 [==============================] - 0s 8ms/step - loss: 0.5651 - accuracy: 0.6571 - val_loss: 0.5736 - val_accuracy: 0.6000\n",
      "Epoch 6/80\n",
      "4/4 [==============================] - 0s 11ms/step - loss: 0.5516 - accuracy: 0.6571 - val_loss: 0.5655 - val_accuracy: 0.6000\n",
      "Epoch 7/80\n",
      "4/4 [==============================] - 0s 11ms/step - loss: 0.5364 - accuracy: 0.6857 - val_loss: 0.5580 - val_accuracy: 0.8000\n",
      "Epoch 8/80\n",
      "4/4 [==============================] - 0s 12ms/step - loss: 0.5222 - accuracy: 0.7429 - val_loss: 0.5594 - val_accuracy: 0.8000\n",
      "Epoch 9/80\n",
      "4/4 [==============================] - 0s 12ms/step - loss: 0.5045 - accuracy: 0.8286 - val_loss: 0.5711 - val_accuracy: 0.8000\n",
      "Epoch 10/80\n",
      "4/4 [==============================] - 0s 12ms/step - loss: 0.4909 - accuracy: 0.8857 - val_loss: 0.5861 - val_accuracy: 0.8000\n",
      "Epoch 11/80\n",
      "4/4 [==============================] - 0s 12ms/step - loss: 0.4794 - accuracy: 0.8857 - val_loss: 0.6004 - val_accuracy: 0.8000\n",
      "Epoch 12/80\n",
      "4/4 [==============================] - 0s 12ms/step - loss: 0.4744 - accuracy: 0.8571 - val_loss: 0.6121 - val_accuracy: 0.8000\n",
      "Epoch 13/80\n",
      "4/4 [==============================] - 0s 14ms/step - loss: 0.4649 - accuracy: 0.8571 - val_loss: 0.6133 - val_accuracy: 0.8000\n",
      "Epoch 14/80\n",
      "4/4 [==============================] - 0s 12ms/step - loss: 0.4584 - accuracy: 0.8571 - val_loss: 0.6128 - val_accuracy: 0.8000\n",
      "Epoch 15/80\n",
      "4/4 [==============================] - 0s 13ms/step - loss: 0.4522 - accuracy: 0.8857 - val_loss: 0.6086 - val_accuracy: 0.8000\n",
      "Epoch 16/80\n",
      "4/4 [==============================] - 0s 12ms/step - loss: 0.4454 - accuracy: 0.8857 - val_loss: 0.6069 - val_accuracy: 0.8000\n",
      "Epoch 17/80\n",
      "4/4 [==============================] - 0s 12ms/step - loss: 0.4394 - accuracy: 0.8857 - val_loss: 0.6032 - val_accuracy: 0.8000\n",
      "Epoch 18/80\n",
      "4/4 [==============================] - 0s 12ms/step - loss: 0.4326 - accuracy: 0.8857 - val_loss: 0.5943 - val_accuracy: 0.8000\n",
      "Epoch 19/80\n",
      "4/4 [==============================] - 0s 14ms/step - loss: 0.4266 - accuracy: 0.8857 - val_loss: 0.5871 - val_accuracy: 0.8000\n",
      "Epoch 20/80\n",
      "4/4 [==============================] - 0s 14ms/step - loss: 0.4216 - accuracy: 0.8857 - val_loss: 0.5797 - val_accuracy: 0.8000\n",
      "Epoch 21/80\n",
      "4/4 [==============================] - 0s 12ms/step - loss: 0.4165 - accuracy: 0.9143 - val_loss: 0.5748 - val_accuracy: 0.8000\n",
      "Epoch 22/80\n",
      "4/4 [==============================] - 0s 12ms/step - loss: 0.4114 - accuracy: 0.8857 - val_loss: 0.5731 - val_accuracy: 0.8000\n",
      "Epoch 23/80\n",
      "4/4 [==============================] - 0s 13ms/step - loss: 0.4062 - accuracy: 0.9143 - val_loss: 0.5721 - val_accuracy: 0.8000\n",
      "Epoch 24/80\n",
      "4/4 [==============================] - 0s 12ms/step - loss: 0.4013 - accuracy: 0.9143 - val_loss: 0.5718 - val_accuracy: 0.8000\n",
      "Epoch 25/80\n",
      "4/4 [==============================] - 0s 13ms/step - loss: 0.3967 - accuracy: 0.8571 - val_loss: 0.5698 - val_accuracy: 0.8000\n",
      "Epoch 26/80\n",
      "4/4 [==============================] - 0s 11ms/step - loss: 0.3925 - accuracy: 0.8571 - val_loss: 0.5684 - val_accuracy: 0.8000\n",
      "Epoch 27/80\n",
      "4/4 [==============================] - 0s 12ms/step - loss: 0.3884 - accuracy: 0.8571 - val_loss: 0.5679 - val_accuracy: 0.8000\n",
      "Epoch 28/80\n",
      "4/4 [==============================] - 0s 12ms/step - loss: 0.3842 - accuracy: 0.8857 - val_loss: 0.5662 - val_accuracy: 0.8000\n",
      "Epoch 29/80\n",
      "4/4 [==============================] - 0s 11ms/step - loss: 0.3803 - accuracy: 0.8857 - val_loss: 0.5630 - val_accuracy: 0.8000\n",
      "Epoch 30/80\n",
      "4/4 [==============================] - 0s 11ms/step - loss: 0.3767 - accuracy: 0.8857 - val_loss: 0.5601 - val_accuracy: 0.8000\n",
      "Epoch 31/80\n",
      "4/4 [==============================] - 0s 12ms/step - loss: 0.3728 - accuracy: 0.8857 - val_loss: 0.5580 - val_accuracy: 0.8000\n",
      "Epoch 32/80\n",
      "4/4 [==============================] - 0s 12ms/step - loss: 0.3689 - accuracy: 0.8857 - val_loss: 0.5576 - val_accuracy: 0.8000\n",
      "Epoch 33/80\n",
      "4/4 [==============================] - 0s 11ms/step - loss: 0.3654 - accuracy: 0.9143 - val_loss: 0.5596 - val_accuracy: 0.8000\n",
      "Epoch 34/80\n",
      "4/4 [==============================] - 0s 11ms/step - loss: 0.3616 - accuracy: 0.8857 - val_loss: 0.5576 - val_accuracy: 0.8000\n",
      "Epoch 35/80\n",
      "4/4 [==============================] - 0s 12ms/step - loss: 0.3583 - accuracy: 0.9143 - val_loss: 0.5547 - val_accuracy: 0.8000\n",
      "Epoch 36/80\n",
      "4/4 [==============================] - 0s 11ms/step - loss: 0.3550 - accuracy: 0.9143 - val_loss: 0.5513 - val_accuracy: 0.8000\n",
      "Epoch 37/80\n",
      "4/4 [==============================] - 0s 13ms/step - loss: 0.3517 - accuracy: 0.9143 - val_loss: 0.5491 - val_accuracy: 0.8000\n",
      "Epoch 38/80\n",
      "4/4 [==============================] - 0s 12ms/step - loss: 0.3487 - accuracy: 0.9143 - val_loss: 0.5465 - val_accuracy: 0.8000\n",
      "Epoch 39/80\n",
      "4/4 [==============================] - 0s 11ms/step - loss: 0.3460 - accuracy: 0.9143 - val_loss: 0.5410 - val_accuracy: 0.8000\n",
      "Epoch 40/80\n",
      "4/4 [==============================] - 0s 12ms/step - loss: 0.3428 - accuracy: 0.9143 - val_loss: 0.5391 - val_accuracy: 0.8000\n",
      "Epoch 41/80\n",
      "4/4 [==============================] - 0s 12ms/step - loss: 0.3404 - accuracy: 0.9143 - val_loss: 0.5371 - val_accuracy: 0.8000\n",
      "Epoch 42/80\n",
      "4/4 [==============================] - 0s 11ms/step - loss: 0.3365 - accuracy: 0.9143 - val_loss: 0.5347 - val_accuracy: 0.8000\n",
      "Epoch 43/80\n",
      "4/4 [==============================] - 0s 13ms/step - loss: 0.3340 - accuracy: 0.9143 - val_loss: 0.5315 - val_accuracy: 0.8000\n",
      "Epoch 44/80\n",
      "4/4 [==============================] - 0s 11ms/step - loss: 0.3320 - accuracy: 0.9143 - val_loss: 0.5325 - val_accuracy: 0.8000\n",
      "Epoch 45/80\n",
      "4/4 [==============================] - 0s 11ms/step - loss: 0.3288 - accuracy: 0.9143 - val_loss: 0.5298 - val_accuracy: 0.8000\n",
      "Epoch 46/80\n",
      "4/4 [==============================] - 0s 12ms/step - loss: 0.3253 - accuracy: 0.9143 - val_loss: 0.5310 - val_accuracy: 0.8000\n",
      "Epoch 47/80\n",
      "4/4 [==============================] - 0s 11ms/step - loss: 0.3224 - accuracy: 0.9143 - val_loss: 0.5349 - val_accuracy: 0.8000\n",
      "Epoch 48/80\n",
      "4/4 [==============================] - 0s 12ms/step - loss: 0.3198 - accuracy: 0.9143 - val_loss: 0.5349 - val_accuracy: 0.8000\n",
      "Epoch 49/80\n",
      "4/4 [==============================] - 0s 12ms/step - loss: 0.3192 - accuracy: 0.9429 - val_loss: 0.5446 - val_accuracy: 0.8000\n",
      "Epoch 50/80\n",
      "4/4 [==============================] - 0s 11ms/step - loss: 0.3147 - accuracy: 0.9143 - val_loss: 0.5447 - val_accuracy: 0.8000\n",
      "Epoch 51/80\n",
      "4/4 [==============================] - 0s 12ms/step - loss: 0.3120 - accuracy: 0.9429 - val_loss: 0.5381 - val_accuracy: 0.8000\n",
      "Epoch 52/80\n",
      "4/4 [==============================] - 0s 10ms/step - loss: 0.3083 - accuracy: 0.9429 - val_loss: 0.5344 - val_accuracy: 0.8000\n",
      "Epoch 53/80\n",
      "4/4 [==============================] - 0s 14ms/step - loss: 0.3060 - accuracy: 0.9429 - val_loss: 0.5331 - val_accuracy: 0.8000\n",
      "Epoch 54/80\n",
      "4/4 [==============================] - 0s 12ms/step - loss: 0.3042 - accuracy: 0.9429 - val_loss: 0.5283 - val_accuracy: 0.8000\n",
      "Epoch 55/80\n",
      "4/4 [==============================] - 0s 11ms/step - loss: 0.3011 - accuracy: 0.9429 - val_loss: 0.5281 - val_accuracy: 0.8000\n",
      "Epoch 56/80\n",
      "4/4 [==============================] - 0s 13ms/step - loss: 0.2992 - accuracy: 0.9429 - val_loss: 0.5292 - val_accuracy: 0.8000\n",
      "Epoch 57/80\n",
      "4/4 [==============================] - 0s 11ms/step - loss: 0.2966 - accuracy: 0.9429 - val_loss: 0.5282 - val_accuracy: 0.8000\n",
      "Epoch 58/80\n",
      "4/4 [==============================] - 0s 11ms/step - loss: 0.2939 - accuracy: 0.9429 - val_loss: 0.5263 - val_accuracy: 0.8000\n",
      "Epoch 59/80\n"
     ]
    },
    {
     "name": "stdout",
     "output_type": "stream",
     "text": [
      "4/4 [==============================] - 0s 13ms/step - loss: 0.2925 - accuracy: 0.9429 - val_loss: 0.5204 - val_accuracy: 0.8000\n",
      "Epoch 60/80\n",
      "4/4 [==============================] - 0s 13ms/step - loss: 0.2896 - accuracy: 0.9429 - val_loss: 0.5204 - val_accuracy: 0.8000\n",
      "Epoch 61/80\n",
      "4/4 [==============================] - 0s 13ms/step - loss: 0.2876 - accuracy: 0.9429 - val_loss: 0.5210 - val_accuracy: 0.8000\n",
      "Epoch 62/80\n",
      "4/4 [==============================] - 0s 13ms/step - loss: 0.2851 - accuracy: 0.9429 - val_loss: 0.5204 - val_accuracy: 0.8000\n",
      "Epoch 63/80\n",
      "4/4 [==============================] - 0s 11ms/step - loss: 0.2830 - accuracy: 0.9429 - val_loss: 0.5197 - val_accuracy: 0.8000\n",
      "Epoch 64/80\n",
      "4/4 [==============================] - 0s 12ms/step - loss: 0.2815 - accuracy: 0.9429 - val_loss: 0.5229 - val_accuracy: 0.8000\n",
      "Epoch 65/80\n",
      "4/4 [==============================] - 0s 12ms/step - loss: 0.2798 - accuracy: 0.9429 - val_loss: 0.5200 - val_accuracy: 0.8000\n",
      "Epoch 66/80\n",
      "4/4 [==============================] - 0s 12ms/step - loss: 0.2770 - accuracy: 0.9429 - val_loss: 0.5231 - val_accuracy: 0.8000\n",
      "Epoch 67/80\n",
      "4/4 [==============================] - 0s 10ms/step - loss: 0.2744 - accuracy: 0.9429 - val_loss: 0.5223 - val_accuracy: 0.8000\n",
      "Epoch 68/80\n",
      "4/4 [==============================] - 0s 10ms/step - loss: 0.2731 - accuracy: 0.9429 - val_loss: 0.5263 - val_accuracy: 0.8000\n",
      "Epoch 69/80\n",
      "4/4 [==============================] - 0s 11ms/step - loss: 0.2711 - accuracy: 0.9429 - val_loss: 0.5281 - val_accuracy: 0.8000\n",
      "Epoch 70/80\n",
      "4/4 [==============================] - 0s 10ms/step - loss: 0.2685 - accuracy: 0.9429 - val_loss: 0.5261 - val_accuracy: 0.8000\n",
      "Epoch 71/80\n",
      "4/4 [==============================] - 0s 12ms/step - loss: 0.2661 - accuracy: 0.9429 - val_loss: 0.5199 - val_accuracy: 0.8000\n",
      "Epoch 72/80\n",
      "4/4 [==============================] - 0s 12ms/step - loss: 0.2650 - accuracy: 0.9429 - val_loss: 0.5111 - val_accuracy: 0.8000\n",
      "Epoch 73/80\n",
      "4/4 [==============================] - 0s 11ms/step - loss: 0.2633 - accuracy: 0.9429 - val_loss: 0.5076 - val_accuracy: 0.8000\n",
      "Epoch 74/80\n",
      "4/4 [==============================] - 0s 11ms/step - loss: 0.2615 - accuracy: 0.9429 - val_loss: 0.5088 - val_accuracy: 0.8000\n",
      "Epoch 75/80\n",
      "4/4 [==============================] - 0s 12ms/step - loss: 0.2590 - accuracy: 0.9429 - val_loss: 0.5095 - val_accuracy: 0.8000\n",
      "Epoch 76/80\n",
      "4/4 [==============================] - 0s 12ms/step - loss: 0.2569 - accuracy: 0.9429 - val_loss: 0.5126 - val_accuracy: 0.8000\n",
      "Epoch 77/80\n",
      "4/4 [==============================] - 0s 11ms/step - loss: 0.2555 - accuracy: 0.9429 - val_loss: 0.5162 - val_accuracy: 0.8000\n",
      "Epoch 78/80\n",
      "4/4 [==============================] - 0s 13ms/step - loss: 0.2540 - accuracy: 0.9429 - val_loss: 0.5176 - val_accuracy: 0.8000\n",
      "Epoch 79/80\n",
      "4/4 [==============================] - 0s 11ms/step - loss: 0.2518 - accuracy: 0.9429 - val_loss: 0.5148 - val_accuracy: 0.8000\n",
      "Epoch 80/80\n",
      "4/4 [==============================] - 0s 10ms/step - loss: 0.2506 - accuracy: 0.9429 - val_loss: 0.5147 - val_accuracy: 0.8000\n"
     ]
    },
    {
     "data": {
      "text/plain": [
       "<tensorflow.python.keras.callbacks.History at 0x1ac8162b198>"
      ]
     },
     "execution_count": 47,
     "metadata": {},
     "output_type": "execute_result"
    }
   ],
   "source": [
    "# fit the keras model on the dataset\n",
    "model.fit(X, y, epochs=80, batch_size=10, validation_data = (X_test,y_test))"
   ]
  },
  {
   "cell_type": "code",
   "execution_count": 48,
   "metadata": {
    "scrolled": true
   },
   "outputs": [
    {
     "name": "stdout",
     "output_type": "stream",
     "text": [
      "1/1 [==============================] - 0s 0s/step - loss: 0.5147 - accuracy: 0.8000\n",
      "Accuracy: 80.00\n"
     ]
    }
   ],
   "source": [
    "# evaluate the keras model\n",
    "_,accuracy = model.evaluate(X_test, y_test)\n",
    "print('Accuracy: %.2f' % (accuracy*100))"
   ]
  },
  {
   "cell_type": "code",
   "execution_count": null,
   "metadata": {},
   "outputs": [],
   "source": []
  }
 ],
 "metadata": {
  "kernelspec": {
   "display_name": "Python 3",
   "language": "python",
   "name": "python3"
  },
  "language_info": {
   "codemirror_mode": {
    "name": "ipython",
    "version": 3
   },
   "file_extension": ".py",
   "mimetype": "text/x-python",
   "name": "python",
   "nbconvert_exporter": "python",
   "pygments_lexer": "ipython3",
   "version": "3.6.8"
  }
 },
 "nbformat": 4,
 "nbformat_minor": 4
}
